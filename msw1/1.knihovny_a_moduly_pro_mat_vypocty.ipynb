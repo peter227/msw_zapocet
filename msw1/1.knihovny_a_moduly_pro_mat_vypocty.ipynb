{
 "cells": [
  {
   "attachments": {},
   "cell_type": "markdown",
   "metadata": {},
   "source": [
    "# 1. Knihovny a moduly pro matematické výpočty"
   ]
  },
  {
   "attachments": {},
   "cell_type": "markdown",
   "metadata": {},
   "source": [
    "## Import potřebných balíčků"
   ]
  },
  {
   "cell_type": "code",
   "execution_count": 2,
   "metadata": {
    "ExecuteTime": {
     "end_time": "2023-05-23T22:09:54.245737700Z",
     "start_time": "2023-05-23T22:09:54.238618100Z"
    },
    "collapsed": true
   },
   "outputs": [],
   "source": [
    "import sympy as sp\n",
    "import scipy as sc\n",
    "import numba as nb\n",
    "import numpy as np\n",
    "from timeit import default_timer as timer\n",
    "import sys\n",
    "from scipy.misc import derivative"
   ]
  },
  {
   "attachments": {},
   "cell_type": "markdown",
   "metadata": {},
   "source": [
    "## Skalární součin\n",
    "### Změříme čas výpočtu skalárního součinu vektorů pomocí čístého pythonu a pomocí numpy"
   ]
  },
  {
   "cell_type": "code",
   "execution_count": 2,
   "metadata": {
    "ExecuteTime": {
     "end_time": "2023-05-23T22:41:46.730608300Z",
     "start_time": "2023-05-23T22:41:46.552357700Z"
    }
   },
   "outputs": [
    {
     "name": "stdout",
     "output_type": "stream",
     "text": [
      "Průměrný čas pro výpočet skalárního součinu v 1000 pokusech čistý python: 1.5270688002929091 ms\n",
      "Průměrný čas pro výpočet skalárního součinu v 1000 pokusech numpy: 0.00953029771335423 ms\n"
     ]
    }
   ],
   "source": [
    "# Implement a function to calculate the scalar product of two vectors from scratch\n",
    "def scalar_product(v1, v2):\n",
    "    return sum([v1[i] * v2[i] for i in range(len(v1))])\n",
    "\n",
    "# Implement a function to calculate the scalar product of two vectors using numpy\n",
    "def np_scalar_product(v1, v2):\n",
    "    return np.dot(v1, v2)\n",
    "\n",
    "# Time the execution of both functions for multiple iterations\n",
    "num_tries = 1000\n",
    "times1 = []\n",
    "times2 = []\n",
    "\n",
    "for i in range(num_tries):\n",
    "    vector1 = np.random.randint(1, 10, size=10000)\n",
    "    vector2 = np.random.randint(1, 10, size=10000)\n",
    "    start_time = timer()\n",
    "    result1 = scalar_product(vector1, vector2)\n",
    "    end_time = timer()\n",
    "    times1.append(end_time - start_time)\n",
    "\n",
    "    start_time = timer()\n",
    "    result2 = np_scalar_product(vector1, vector2)\n",
    "    end_time = timer()\n",
    "    times2.append(end_time - start_time)\n",
    "\n",
    "# Calculate the average time for each function\n",
    "avg_time1 = sum(times1) / num_tries\n",
    "avg_time2 = sum(times2) / num_tries\n",
    "\n",
    "print(f\"Průměrný čas pro výpočet skalárního součinu v {num_tries} pokusech čistý python: {avg_time1 * 1000} ms\")\n",
    "print(f\"Průměrný čas pro výpočet skalárního součinu v {num_tries} pokusech numpy: {avg_time2 * 1000} ms\")"
   ]
  },
  {
   "attachments": {},
   "cell_type": "markdown",
   "metadata": {},
   "source": [
    "## Vektorový součin\n",
    "### Změříme čas výpočtu vektorového součinu vektorů pomocí čístého pythonu a pomocí numpy"
   ]
  },
  {
   "cell_type": "code",
   "execution_count": 3,
   "metadata": {
    "ExecuteTime": {
     "end_time": "2023-05-23T22:41:39.923505100Z",
     "start_time": "2023-05-23T22:41:39.918975100Z"
    }
   },
   "outputs": [
    {
     "name": "stdout",
     "output_type": "stream",
     "text": [
      "Průměrný čas pro výpočet vektorového součinu v 1000 pokusech čistý python: 0.0014845968689769506 ms\n",
      "Průměrný čas pro výpočet vektorového součinu v 1000 pokusech čistý python: 0.02268390078097582 ms\n"
     ]
    }
   ],
   "source": [
    "# vektorový součin pomocí čistého pythonu\n",
    "def vector_product_python(x, y):\n",
    "    result = [x[1] * y[2] - x[2] * y[1],\n",
    "              x[2] * y[0] - x[0] * y[2],\n",
    "              x[0] * y[1] - x[1] * y[0]]\n",
    "\n",
    "    return result\n",
    "\n",
    "# vektorový součin pomocí numpy\n",
    "def vector_product_numpy(x, y):\n",
    "    result = np.cross(x, y)\n",
    "    return result\n",
    "\n",
    "# vytvoříme náhodné vektory\n",
    "\n",
    "num_tries = 1000\n",
    "times1 = []\n",
    "times2 = []\n",
    "\n",
    "for i in range(num_tries):\n",
    "    vector1 = np.random.randint(1, 10, size=3)\n",
    "    vector2 = np.random.randint(1, 10, size=3)\n",
    "    start_time = timer()\n",
    "    result1 = vector_product_python(vector1, vector2)\n",
    "    end_time = timer()\n",
    "    times1.append(end_time - start_time)\n",
    "\n",
    "    start_time = timer()\n",
    "    result2 = vector_product_numpy(vector1, vector2)\n",
    "    end_time = timer()\n",
    "    times2.append(end_time - start_time)\n",
    "\n",
    "avg_time1 = sum(times1) / num_tries\n",
    "avg_time2 = sum(times2) / num_tries\n",
    "\n",
    "print(f\"Průměrný čas pro výpočet vektorového součinu v {num_tries} pokusech čistý python: {avg_time1 * 1000} ms\")\n",
    "\n",
    "print(f\"Průměrný čas pro výpočet vektorového součinu v {num_tries} pokusech čistý python: {avg_time2 * 1000} ms\")\n"
   ]
  },
  {
   "attachments": {},
   "cell_type": "markdown",
   "metadata": {},
   "source": [
    "## Určitý integrál\n",
    "### Změříme čas výpočtu určitého integrálu pomocí čístého pythonu a pomocí scipy"
   ]
  },
  {
   "cell_type": "code",
   "execution_count": 4,
   "metadata": {
    "ExecuteTime": {
     "end_time": "2023-05-23T22:27:04.622113900Z",
     "start_time": "2023-05-23T22:27:03.526737500Z"
    }
   },
   "outputs": [
    {
     "name": "stdout",
     "output_type": "stream",
     "text": [
      "Průměrný čas pro výpočet určitého integrálu v čístem pythonu: 1.704184704925865 ms, při 1000 pokusech\n",
      "Průměrný čas pro výpočet určitého integrálu pomocí numpy: 0.04555249586701393 ms, při 1000 pokusech\n"
     ]
    }
   ],
   "source": [
    "# Definice funkce pro integraci\n",
    "def f(x):\n",
    "    return sc.stats.uniform.rvs(loc=0, scale=1) * x**2\n",
    "\n",
    "# Výpočet určitého integrálu f(x) z bodu a do bodu b pomocí čistého jazyka Python\n",
    "def definite_integral_python(f, a, b, n=100):\n",
    "    dx = (b - a) / n\n",
    "    result = 0\n",
    "    for i in range(n):\n",
    "        x = a + i * dx\n",
    "        result += f(x) * dx\n",
    "    return result\n",
    "\n",
    "# Výpočet určitého integrálu f(x) z bodu a do bodu b pomocí scipy.integrate.quad\n",
    "def definite_integral_scipy(f, a, b):\n",
    "    result, error = sc.integrate.fixed_quad(f, a, b, n=5)\n",
    "    return result\n",
    "\n",
    "# Čas provedení obou funkcí na 1000 pokusů\n",
    "num_tries = 1000\n",
    "times1 = []\n",
    "times2 = []\n",
    "\n",
    "for i in range(num_tries):\n",
    "    f = lambda x: sc.stats.uniform.rvs(loc=0, scale=1) * x**2\n",
    "    a = sc.stats.uniform.rvs(loc=0, scale=1)\n",
    "    b = sc.stats.uniform.rvs(loc=0, scale=1)\n",
    "    start_time = timer()\n",
    "    result1 = definite_integral_python(f, a, b)\n",
    "    end_time = timer()\n",
    "    times1.append(end_time - start_time)\n",
    "\n",
    "    start_time = timer()\n",
    "    result2 = definite_integral_scipy(f, a, b)\n",
    "    end_time = timer()\n",
    "    times2.append(end_time - start_time)\n",
    "\n",
    "# Výpočet průměrného času pro každou funkci\n",
    "avg_time1 = sum(times1) / num_tries\n",
    "avg_time2 = sum(times2) / num_tries\n",
    "\n",
    "print(f\"Průměrný čas pro výpočet určitého integrálu v čístem pythonu: {avg_time1 * 1000} ms, při {num_tries} pokusech\")\n",
    "print(f\"Průměrný čas pro výpočet určitého integrálu pomocí numpy: {avg_time2 * 1000} ms, při {num_tries} pokusech\")"
   ]
  },
  {
   "attachments": {},
   "cell_type": "markdown",
   "metadata": {},
   "source": [
    "## Derivace\n",
    "### Změříme čas výpočtu derivace pomocí čístého pythonu a pomocí sympy"
   ]
  },
  {
   "cell_type": "code",
   "execution_count": 24,
   "metadata": {
    "ExecuteTime": {
     "end_time": "2023-05-14T14:13:57.410371300Z",
     "start_time": "2023-05-14T14:13:57.403520700Z"
    }
   },
   "outputs": [
    {
     "ename": "AttributeError",
     "evalue": "module 'sympy' has no attribute 'derivative'",
     "output_type": "error",
     "traceback": [
      "\u001b[1;31m---------------------------------------------------------------------------\u001b[0m",
      "\u001b[1;31mAttributeError\u001b[0m                            Traceback (most recent call last)",
      "Cell \u001b[1;32mIn[24], line 14\u001b[0m\n\u001b[0;32m     12\u001b[0m x \u001b[39m=\u001b[39m \u001b[39m4\u001b[39m\n\u001b[0;32m     13\u001b[0m df_dx \u001b[39m=\u001b[39m derivative_python(f, x)\n\u001b[1;32m---> 14\u001b[0m df_dy \u001b[39m=\u001b[39m derivative_sympy(f, x) \n\u001b[0;32m     15\u001b[0m \u001b[39mprint\u001b[39m(\u001b[39mf\u001b[39m\u001b[39m\"\u001b[39m\u001b[39mDerivace funkce f(x) = x^2 v bodě x = \u001b[39m\u001b[39m{\u001b[39;00mx\u001b[39m}\u001b[39;00m\u001b[39m pomocí čistého pythonu: \u001b[39m\u001b[39m{\u001b[39;00mdf_dx\u001b[39m}\u001b[39;00m\u001b[39m\"\u001b[39m)\n\u001b[0;32m     16\u001b[0m \u001b[39mprint\u001b[39m(\u001b[39mf\u001b[39m\u001b[39m\"\u001b[39m\u001b[39mDerivace funkce f(x) = x^2 v bodě x = \u001b[39m\u001b[39m{\u001b[39;00mx\u001b[39m}\u001b[39;00m\u001b[39m pomocí sympy: \u001b[39m\u001b[39m{\u001b[39;00mdf_dy\u001b[39m}\u001b[39;00m\u001b[39m\"\u001b[39m)\n",
      "Cell \u001b[1;32mIn[24], line 10\u001b[0m, in \u001b[0;36mderivative_sympy\u001b[1;34m(f, x)\u001b[0m\n\u001b[0;32m      9\u001b[0m \u001b[39mdef\u001b[39;00m \u001b[39mderivative_sympy\u001b[39m(f, x):\n\u001b[1;32m---> 10\u001b[0m     \u001b[39mreturn\u001b[39;00m sp\u001b[39m.\u001b[39;49mderivative(f, x)\n",
      "\u001b[1;31mAttributeError\u001b[0m: module 'sympy' has no attribute 'derivative'"
     ]
    }
   ],
   "source": [
    "def f(x):\n",
    "    return x**2\n",
    "\n",
    "# derivace pomocí čistého pythonu\n",
    "def derivative_python(f, x, h=0.0001):\n",
    "    return (f(x + h) - f(x - h)) / (2 * h)\n",
    "\n",
    "# derivace pomocí sympy\n",
    "def derivative_sympy(f, x):\n",
    "    return derivative(f, x)\n",
    "\n",
    "x = 4\n",
    "df_dx = derivative_python(f, x)\n",
    "df_dy = derivative_sympy(f, x) \n",
    "print(f\"Derivace funkce f(x) = x^2 v bodě x = {x} pomocí čistého pythonu: {df_dx}\")\n",
    "print(f\"Derivace funkce f(x) = x^2 v bodě x = {x} pomocí sympy: {df_dy}\")"
   ]
  },
  {
   "attachments": {},
   "cell_type": "markdown",
   "metadata": {},
   "source": [
    "## Faktoriál\n",
    "### Změříme čas výpočtu faktoriálu pomocí čístého pythonu a pomocí numpy"
   ]
  },
  {
   "cell_type": "code",
   "execution_count": 17,
   "metadata": {
    "ExecuteTime": {
     "end_time": "2023-05-14T14:18:06.251073800Z",
     "start_time": "2023-05-14T14:18:06.245021900Z"
    }
   },
   "outputs": [
    {
     "name": "stdout",
     "output_type": "stream",
     "text": [
      "Průměrný čas výpočtu faktoriálu v čístem pythonu: 0.06755590019747615 ms v 1000 pokusech\n",
      "Průměrný čas výpočtu faktoriálu pomocí numpy: 0.012694800971075892 ms v 1000 pokusech\n"
     ]
    }
   ],
   "source": [
    "# faktoriál pomocí čistého pythonu\n",
    "def factorial_python(n):\n",
    "    if n == 0:\n",
    "        return 1\n",
    "    else:\n",
    "        result = 1\n",
    "        for i in range(1, n+1):\n",
    "            result *= i\n",
    "        return result\n",
    "\n",
    "# faktoriál pomocí numpy\n",
    "def factorial_numpy(n):\n",
    "    return np.math.factorial(n)\n",
    "\n",
    "num_tries = 1000\n",
    "times1 = []\n",
    "times2 = []\n",
    "\n",
    "# změříme čas výpočtu pomocí čistého pythonu\n",
    "for i in range(num_tries):\n",
    "    n = np.random.randint(1, 1000)\n",
    "    start = timer()\n",
    "    factorial_python(n)\n",
    "    end = timer()\n",
    "    times1.append(end - start)\n",
    "\n",
    "    # změříme čas výpočtu pomocí numpy\n",
    "    start = timer()\n",
    "    factorial_numpy(n)\n",
    "    end = timer()\n",
    "    times2.append(end - start)\n",
    "\n",
    "avg_time1 = sum(times1) / num_tries\n",
    "avg_time2 = sum(times2) / num_tries\n",
    "\n",
    "print(f\"Průměrný čas výpočtu faktoriálu v čístem pythonu: {avg_time1 * 1000} ms v {num_tries} pokusech\")\n",
    "print(f\"Průměrný čas výpočtu faktoriálu pomocí numpy: {avg_time2 * 1000} ms v {num_tries} pokusech\")\n"
   ]
  },
  {
   "attachments": {},
   "cell_type": "markdown",
   "metadata": {},
   "source": []
  },
  {
   "cell_type": "code",
   "execution_count": null,
   "metadata": {},
   "outputs": [],
   "source": [
    "\n"
   ]
  }
 ],
 "metadata": {
  "kernelspec": {
   "display_name": "Python 3 (ipykernel)",
   "language": "python",
   "name": "python3"
  },
  "language_info": {
   "codemirror_mode": {
    "name": "ipython",
    "version": 3
   },
   "file_extension": ".py",
   "mimetype": "text/x-python",
   "name": "python",
   "nbconvert_exporter": "python",
   "pygments_lexer": "ipython3",
   "version": "3.11.1"
  }
 },
 "nbformat": 4,
 "nbformat_minor": 1
}
