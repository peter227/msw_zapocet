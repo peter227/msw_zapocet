{
 "cells": [
  {
   "cell_type": "markdown",
   "metadata": {},
   "source": [
    "# 1. Knihovny a moduly pro matematické výpočty"
   ]
  },
  {
   "cell_type": "markdown",
   "source": [
    "## Import potřebných balíčků"
   ],
   "metadata": {
    "collapsed": false
   }
  },
  {
   "cell_type": "code",
   "execution_count": 7,
   "metadata": {
    "collapsed": true,
    "ExecuteTime": {
     "end_time": "2023-05-14T13:57:15.993321300Z",
     "start_time": "2023-05-14T13:57:15.798366900Z"
    }
   },
   "outputs": [],
   "source": [
    "import numpy as np\n",
    "import sympy as sp\n",
    "import scipy as sc\n",
    "import numba as nb\n",
    "from timeit import default_timer as timer"
   ]
  },
  {
   "cell_type": "markdown",
   "source": [
    "## Skalární součin\n",
    "### Změříme čas výpočtu skalárního součinu vektorů pomocí čístého pythonu a pomocí numpy"
   ],
   "metadata": {
    "collapsed": false
   }
  },
  {
   "cell_type": "code",
   "execution_count": 75,
   "outputs": [
    {
     "name": "stdout",
     "output_type": "stream",
     "text": [
      "Čas potřebný pro výpočet pomocí čístého pythonu: 0.0007953000022098422\n",
      "Čas potřebný pro výpočet pomocí numpy: 0.0007437000167556107\n"
     ]
    }
   ],
   "source": [
    "# skalární součin pomocí čistého pythonu\n",
    "def scalar_product_python(x, y):\n",
    "    result = x @ y\n",
    "    return result\n",
    "\n",
    "# skalární součin pomocí numpy\n",
    "def scalar_product_numpy(x, y):\n",
    "    return np.dot(x, y)\n",
    "\n",
    "# vytvoříme náhodné vektory\n",
    "x = np.random.rand(1000000)\n",
    "y = np.random.rand(1000000)\n",
    "\n",
    "# změříme čas výpočtu pomocí čistého pythonu\n",
    "start = timer()\n",
    "scalar_product_python(x, y)\n",
    "end = timer()\n",
    "print(f\"Čas potřebný pro výpočet pomocí čístého pythonu: {end - start}\")\n",
    "\n",
    "# změříme čas výpočtu pomocí numpy\n",
    "start = timer()\n",
    "scalar_product_numpy(x, y)\n",
    "end = timer()\n",
    "print(f\"Čas potřebný pro výpočet pomocí numpy: {end - start}\")"
   ],
   "metadata": {
    "collapsed": false,
    "ExecuteTime": {
     "end_time": "2023-05-14T14:23:26.927219100Z",
     "start_time": "2023-05-14T14:23:26.899247800Z"
    }
   }
  },
  {
   "cell_type": "markdown",
   "source": [
    "## Vektorový součin\n",
    "### Změříme čas výpočtu vektorového součinu vektorů pomocí čístého pythonu a pomocí numpy"
   ],
   "metadata": {
    "collapsed": false
   }
  },
  {
   "cell_type": "code",
   "execution_count": 30,
   "outputs": [
    {
     "name": "stdout",
     "output_type": "stream",
     "text": [
      "Čas potřebný pro výpočet pomocí čístého pythonu: 3.119994653388858e-05\n",
      "Čas potřebný pro výpočet pomocí numpy: 0.00010260002454742789\n"
     ]
    }
   ],
   "source": [
    "# vektorový součin pomocí čistého pythonu\n",
    "def vector_product_python(x, y):\n",
    "    result = [x[1] * y[2] - x[2] * y[1],\n",
    "              x[2] * y[0] - x[0] * y[2],\n",
    "              x[0] * y[1] - x[1] * y[0]]\n",
    "\n",
    "    return result\n",
    "\n",
    "# vektorový součin pomocí numpy\n",
    "def vector_product_numpy(x, y):\n",
    "    return np.cross(x, y)\n",
    "\n",
    "# vytvoříme náhodné vektory\n",
    "x = np.random.rand(3)\n",
    "y = np.random.rand(3)\n",
    "\n",
    "# změříme čas výpočtu pomocí čistého pythonu\n",
    "start = timer()\n",
    "vector_product_python(x, y)\n",
    "end = timer()\n",
    "print(f\"Čas potřebný pro výpočet pomocí čístého pythonu: {end - start}\")\n",
    "\n",
    "# změříme čas výpočtu pomocí numpy\n",
    "start = timer()\n",
    "vector_product_numpy(x, y)\n",
    "end = timer()\n",
    "print(f\"Čas potřebný pro výpočet pomocí numpy: {end - start}\")\n"
   ],
   "metadata": {
    "collapsed": false,
    "ExecuteTime": {
     "end_time": "2023-05-14T14:09:42.758755900Z",
     "start_time": "2023-05-14T14:09:42.750744600Z"
    }
   }
  },
  {
   "cell_type": "markdown",
   "source": [
    "## Určitý integrál\n",
    "### Změříme čas výpočtu určitého integrálu pomocí čístého pythonu a pomocí scipy"
   ],
   "metadata": {
    "collapsed": false
   }
  },
  {
   "cell_type": "code",
   "execution_count": 32,
   "outputs": [
    {
     "name": "stdout",
     "output_type": "stream",
     "text": [
      "Čas potřebný pro výpočet pomocí čístého pythonu: 1.057381400023587\n",
      "Čas potřebný pro výpočet pomocí scipy: 0.0005796000477857888\n"
     ]
    }
   ],
   "source": [
    "# určitý integrál pomocí čistého pythonu\n",
    "def definite_integral_python(f, a, b, n):\n",
    "    result = 0\n",
    "    dx = (b - a) / n\n",
    "    for i in range(n):\n",
    "        result += f(a + i * dx) * dx\n",
    "    return result\n",
    "\n",
    "# určitý integrál pomocí scipy\n",
    "def definite_integral_scipy(f, a, b, n):\n",
    "    return sc.integrate.quad(f, a, b)[0]\n",
    "\n",
    "# vytvoříme náhodnou funkci\n",
    "x = sp.symbols('x')\n",
    "f = sp.sin(x) * sp.exp(x)\n",
    "\n",
    "# změříme čas výpočtu pomocí čistého pythonu\n",
    "start = timer()\n",
    "definite_integral_python(sp.lambdify(x, f), 0, 1, 1000000)\n",
    "end = timer()\n",
    "print(f\"Čas potřebný pro výpočet pomocí čístého pythonu: {end - start}\")\n",
    "\n",
    "# změříme čas výpočtu pomocí scipy\n",
    "start = timer()\n",
    "definite_integral_scipy(sp.lambdify(x, f), 0, 1, 1000000)\n",
    "end = timer()\n",
    "print(f\"Čas potřebný pro výpočet pomocí scipy: {end - start}\")"
   ],
   "metadata": {
    "collapsed": false,
    "ExecuteTime": {
     "end_time": "2023-05-14T14:11:31.599561800Z",
     "start_time": "2023-05-14T14:11:30.550190400Z"
    }
   }
  },
  {
   "cell_type": "markdown",
   "source": [
    "## Derivace\n",
    "### Změříme čas výpočtu derivace pomocí čístého pythonu a pomocí sympy"
   ],
   "metadata": {
    "collapsed": false
   }
  },
  {
   "cell_type": "code",
   "execution_count": 46,
   "outputs": [
    {
     "name": "stdout",
     "output_type": "stream",
     "text": [
      "Čas potřebný pro výpočet pomocí čístého pythonu: 0.0013855999568477273\n",
      "Čas potřebný pro výpočet pomocí sympy: 0.0002843000111170113\n"
     ]
    }
   ],
   "source": [
    "# derivace pomocí čistého pythonu\n",
    "def derivative_python(f, x, dx):\n",
    "    return (f(x + dx) - f(x)) / dx\n",
    "\n",
    "# derivace pomocí sympy\n",
    "def derivative_sympy(f, x):\n",
    "    return sp.diff(f, x)\n",
    "\n",
    "# vytvoříme náhodnou funkci\n",
    "x = sp.symbols('x')\n",
    "f = sp.sin(x) * sp.exp(x)\n",
    "\n",
    "# změříme čas výpočtu pomocí čistého pythonu\n",
    "start = timer()\n",
    "derivative_python(sp.lambdify(x, f), 0, 0.0000001)\n",
    "end = timer()\n",
    "print(f\"Čas potřebný pro výpočet pomocí čístého pythonu: {end - start}\")\n",
    "\n",
    "# změříme čas výpočtu pomocí sympy\n",
    "start = timer()\n",
    "derivative_sympy(f, x)\n",
    "end = timer()\n",
    "print(f\"Čas potřebný pro výpočet pomocí sympy: {end - start}\")"
   ],
   "metadata": {
    "collapsed": false,
    "ExecuteTime": {
     "end_time": "2023-05-14T14:13:57.410371300Z",
     "start_time": "2023-05-14T14:13:57.403520700Z"
    }
   }
  },
  {
   "cell_type": "markdown",
   "source": [
    "## Faktoriál\n",
    "### Změříme čas výpočtu faktoriálu pomocí čístého pythonu a pomocí numpy"
   ],
   "metadata": {
    "collapsed": false
   }
  },
  {
   "cell_type": "code",
   "execution_count": 55,
   "outputs": [
    {
     "name": "stdout",
     "output_type": "stream",
     "text": [
      "Čas potřebný pro výpočet pomocí čístého pythonu: 0.00031670002499595284\n",
      "Čas potřebný pro výpočet pomocí numpy: 9.789998875930905e-05\n"
     ]
    }
   ],
   "source": [
    "# faktoriál pomocí čistého pythonu\n",
    "def factorial_python(n):\n",
    "    if n == 0: return 1\n",
    "    x = n\n",
    "    for i in range(2, n):\n",
    "        x *= i\n",
    "    return x\n",
    "\n",
    "# faktoriál pomocí numpy\n",
    "def factorial_numpy(n):\n",
    "    return np.math.factorial(n)\n",
    "\n",
    "# změříme čas výpočtu pomocí čistého pythonu\n",
    "start = timer()\n",
    "factorial_python(1000)\n",
    "end = timer()\n",
    "print(f\"Čas potřebný pro výpočet pomocí čístého pythonu: {end - start}\")\n",
    "\n",
    "# změříme čas výpočtu pomocí numpy\n",
    "start = timer()\n",
    "factorial_numpy(1000)\n",
    "end = timer()\n",
    "print(f\"Čas potřebný pro výpočet pomocí numpy: {end - start}\")\n"
   ],
   "metadata": {
    "collapsed": false,
    "ExecuteTime": {
     "end_time": "2023-05-14T14:18:06.251073800Z",
     "start_time": "2023-05-14T14:18:06.245021900Z"
    }
   }
  },
  {
   "cell_type": "markdown",
   "source": [
    "## Determinant matice\n",
    "### Změříme čas výpočtu determinantu matice pomocí čístého pythonu a pomocí numpy"
   ],
   "metadata": {
    "collapsed": false
   }
  },
  {
   "cell_type": "code",
   "execution_count": 105,
   "outputs": [],
   "source": [],
   "metadata": {
    "collapsed": false,
    "ExecuteTime": {
     "end_time": "2023-05-14T14:35:22.351565900Z",
     "start_time": "2023-05-14T14:35:22.348047Z"
    }
   }
  }
 ],
 "metadata": {
  "kernelspec": {
   "display_name": "Python 3 (ipykernel)",
   "language": "python",
   "name": "python3"
  },
  "language_info": {
   "codemirror_mode": {
    "name": "ipython",
    "version": 3
   },
   "file_extension": ".py",
   "mimetype": "text/x-python",
   "name": "python",
   "nbconvert_exporter": "python",
   "pygments_lexer": "ipython3",
   "version": "3.11.1"
  }
 },
 "nbformat": 4,
 "nbformat_minor": 1
}
